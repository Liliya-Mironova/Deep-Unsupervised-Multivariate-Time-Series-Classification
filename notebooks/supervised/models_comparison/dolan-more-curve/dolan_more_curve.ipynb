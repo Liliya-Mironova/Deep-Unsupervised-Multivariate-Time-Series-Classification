{
 "cells": [
  {
   "cell_type": "markdown",
   "metadata": {},
   "source": [
    "Polina:\n",
    "- в merged колонка Dataset это колонка с названием датасета, остальные колонки — названия методов\n",
    "- our approach колонка содержит в идеале твой метод, который ты сравниваешь с другими\n",
    "- столбцы — accuracy для каждого метода\n",
    "- Если у тебя метрика убывает в сторону улучшения — поменяй сортинг не забудь"
   ]
  },
  {
   "cell_type": "code",
   "execution_count": 1,
   "metadata": {},
   "outputs": [],
   "source": [
    "def dolan_more(merged, title = 'Dolan-More curve'):\n",
    "    merged['best_performance'] = np.array(merged.set_index('Dataset').max(axis = 1))\n",
    "    betas = pd.DataFrame(merged.set_index('Dataset'))\n",
    "    for i in merged.set_index('Dataset').columns:\n",
    "        betas[i] = merged.set_index('Dataset')['best_performance'] / merged.set_index('Dataset')[i]\n",
    "    max_beta = betas[betas.columns[:-1]].replace(np.inf, 0).max().max()\n",
    "    space = np.linspace(1, max_beta, 100)\n",
    "    betas = betas.replace(np.inf, max_beta)\n",
    "\n",
    "    curves = []\n",
    "    methods = []\n",
    "    for i in merged.set_index('Dataset').columns[:-1]:\n",
    "        curve = []\n",
    "        methods.append(i)\n",
    "        for sp in space:\n",
    "            curve.append(np.sum(betas[i] <= sp)/ merged.shape[0])\n",
    "        curves.append(curve)\n",
    "\n",
    "    f = plt.figure(figsize = (7, 5), dpi = 180)\n",
    "    plt.title(title)\n",
    "    i = 0\n",
    "    for method, curve in zip(methods, curves):\n",
    "        if method == 'OUR APPROACH':\n",
    "            plt.plot(space, curve, label = method, linewidth = 3,\n",
    "                     c = sns.color_palette(\"bright\", 8)[4], linestyle = '--')      \n",
    "        else:\n",
    "            if i == 4:\n",
    "                i += 1\n",
    "            plt.plot(space, curve, label = method,\n",
    "                    c = sns.color_palette(\"bright\", 10)[i])\n",
    "        i += 1\n",
    "    plt.ylabel('Proportion of datasets')\n",
    "    plt.xlabel(r'$\\beta$')\n",
    "    plt.legend()\n",
    "    plt.show()\n",
    "    return f"
   ]
  },
  {
   "cell_type": "code",
   "execution_count": null,
   "metadata": {},
   "outputs": [],
   "source": []
  }
 ],
 "metadata": {
  "kernelspec": {
   "display_name": "Python 3",
   "language": "python",
   "name": "python3"
  },
  "language_info": {
   "codemirror_mode": {
    "name": "ipython",
    "version": 3
   },
   "file_extension": ".py",
   "mimetype": "text/x-python",
   "name": "python",
   "nbconvert_exporter": "python",
   "pygments_lexer": "ipython3",
   "version": "3.6.7"
  }
 },
 "nbformat": 4,
 "nbformat_minor": 2
}
