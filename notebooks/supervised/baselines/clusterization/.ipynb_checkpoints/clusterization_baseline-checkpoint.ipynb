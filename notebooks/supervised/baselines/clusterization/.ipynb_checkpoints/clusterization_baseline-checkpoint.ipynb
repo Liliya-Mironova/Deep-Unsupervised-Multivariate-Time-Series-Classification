{
 "cells": [
  {
   "cell_type": "code",
   "execution_count": 1,
   "metadata": {},
   "outputs": [],
   "source": [
    "import numpy as np\n",
    "import os\n",
    "from sklearn.metrics import accuracy_score\n",
    "from sktime.utils.load_data import load_from_tsfile_to_dataframe\n",
    "from tqdm.notebook import tqdm\n",
    "from sklearn.neighbors import KNeighborsClassifier\n",
    "from sklearn import preprocessing\n",
    "import torch\n",
    "import torch.nn as nn\n",
    "import torch.nn.functional as F\n",
    "\n",
    "from sklearn.cluster import KMeans\n",
    "\n",
    "# from tslearn.neighbors import KNeighborsTimeSeriesClassifier\n",
    "\n",
    "import logging\n",
    "# logging.basicConfig(filename=\"1_nn_eucledian_results_history.log\", level=logging.INFO)\n",
    "\n",
    "import warnings\n",
    "warnings.filterwarnings(\"ignore\")"
   ]
  },
  {
   "cell_type": "markdown",
   "metadata": {},
   "source": [
    "## Loading and preprocessing"
   ]
  },
  {
   "cell_type": "code",
   "execution_count": 2,
   "metadata": {},
   "outputs": [],
   "source": [
    "def simple_preproc_before_knn(X):\n",
    "    X = X.applymap(np.array)\n",
    "    dims_lst = X.columns\n",
    "\n",
    "    for dim_name in dims_lst:\n",
    "        dim_values = np.stack(X[dim_name].values, axis=0)\n",
    "        for i in range(dim_values.shape[1]):\n",
    "            X[dim_name + f'_{i}'] = dim_values[:, i]\n",
    "\n",
    "    X = X.drop(columns=dims_lst)\n",
    "    return X\n",
    "\n",
    "\n",
    "def preproc_answers(y):\n",
    "    le = preprocessing.LabelEncoder()\n",
    "    y = le.fit_transform(y)\n",
    "    return y"
   ]
  },
  {
   "cell_type": "code",
   "execution_count": 3,
   "metadata": {},
   "outputs": [],
   "source": [
    "datasets_directory = \"/root/data/Multivariate_ts/\"\n",
    "\n",
    "# dataset_name = 'PenDigits'\n",
    "dataset_name = 'LSST'\n",
    "\n",
    "\n",
    "X_train, y_train = load_from_tsfile_to_dataframe(datasets_directory + dataset_name + f'/{dataset_name}_TRAIN.ts')\n",
    "X_test, y_test = load_from_tsfile_to_dataframe(datasets_directory + dataset_name + f'/{dataset_name}_TEST.ts')\n",
    "\n",
    "X_train = simple_preproc_before_knn(X_train)\n",
    "X_test = simple_preproc_before_knn(X_test)\n",
    "\n",
    "ms = preprocessing.MinMaxScaler()\n",
    "X_train = ms.fit_transform(X_train)\n",
    "X_test = ms.transform(X_test)\n",
    "\n",
    "y_train = preproc_answers(y_train)\n",
    "y_test = preproc_answers(y_test)"
   ]
  },
  {
   "cell_type": "markdown",
   "metadata": {},
   "source": [
    "## Clusterization"
   ]
  },
  {
   "cell_type": "code",
   "execution_count": 21,
   "metadata": {},
   "outputs": [],
   "source": [
    "classes_num = len(np.unique(y_train))\n",
    "km = KMeans(n_clusters=classes_num, random_state=11)\n",
    "\n",
    "km.fit(X_train)\n",
    "train_labels = km.labels_\n",
    "\n",
    "km.fit(X_test)\n",
    "test_labels = km.labels_"
   ]
  },
  {
   "cell_type": "markdown",
   "metadata": {},
   "source": [
    "## Classification with new labels"
   ]
  },
  {
   "cell_type": "code",
   "execution_count": 22,
   "metadata": {},
   "outputs": [
    {
     "name": "stdout",
     "output_type": "stream",
     "text": [
      "test_accuracy: 0.00365\n"
     ]
    }
   ],
   "source": [
    "knn = KNeighborsClassifier(n_neighbors=1, metric='euclidean')\n",
    "knn.fit(X_train, train_labels)\n",
    "\n",
    "# train_predictions = knn.predict(X_train)\n",
    "# train_accuracy = accuracy_score(train_predictions, train_labels)\n",
    "# print('train_accuracy:', round(train_accuracy,5))\n",
    "\n",
    "test_predictions = knn.predict(X_test)\n",
    "test_accuracy = accuracy_score(test_predictions, test_labels)\n",
    "print('test_accuracy:', round(test_accuracy,5))"
   ]
  },
  {
   "cell_type": "code",
   "execution_count": null,
   "metadata": {},
   "outputs": [],
   "source": []
  }
 ],
 "metadata": {
  "kernelspec": {
   "display_name": "Python 3",
   "language": "python",
   "name": "python3"
  },
  "language_info": {
   "codemirror_mode": {
    "name": "ipython",
    "version": 3
   },
   "file_extension": ".py",
   "mimetype": "text/x-python",
   "name": "python",
   "nbconvert_exporter": "python",
   "pygments_lexer": "ipython3",
   "version": "3.6.7"
  }
 },
 "nbformat": 4,
 "nbformat_minor": 2
}
