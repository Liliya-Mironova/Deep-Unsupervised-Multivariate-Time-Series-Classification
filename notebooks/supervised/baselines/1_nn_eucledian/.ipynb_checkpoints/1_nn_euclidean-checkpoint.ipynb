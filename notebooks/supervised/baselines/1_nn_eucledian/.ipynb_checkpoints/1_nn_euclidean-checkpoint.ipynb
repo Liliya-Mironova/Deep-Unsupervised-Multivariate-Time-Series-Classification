{
 "cells": [
  {
   "cell_type": "code",
   "execution_count": 16,
   "metadata": {},
   "outputs": [],
   "source": [
    "import numpy as np\n",
    "import os\n",
    "from sklearn.metrics import accuracy_score\n",
    "from sktime.utils.load_data import load_from_tsfile_to_dataframe\n",
    "from tqdm.notebook import tqdm\n",
    "from sklearn.neighbors import KNeighborsClassifier\n",
    "from sklearn import preprocessing\n",
    "import torch\n",
    "import torch.nn as nn\n",
    "import torch.nn.functional as F\n",
    "\n",
    "# from tslearn.neighbors import KNeighborsTimeSeriesClassifier\n",
    "\n",
    "import logging\n",
    "logging.basicConfig(filename=\"1_nn_eucledian_results_history.log\", level=logging.INFO)\n",
    "\n",
    "import warnings\n",
    "warnings.filterwarnings(\"ignore\")"
   ]
  },
  {
   "cell_type": "code",
   "execution_count": 17,
   "metadata": {},
   "outputs": [],
   "source": [
    "def simple_preproc_before_knn(X):\n",
    "    X = X.applymap(np.array)\n",
    "    dims_lst = X.columns\n",
    "\n",
    "    for dim_name in dims_lst:\n",
    "        dim_values = np.stack(X[dim_name].values, axis=0)\n",
    "        for i in range(dim_values.shape[1]):\n",
    "            X[dim_name + f'_{i}'] = dim_values[:, i]\n",
    "\n",
    "    X = X.drop(columns=dims_lst)\n",
    "    return X\n",
    "\n",
    "\n",
    "def preproc_answers(y):\n",
    "    le = preprocessing.LabelEncoder()\n",
    "    y = le.fit_transform(y)\n",
    "    return y"
   ]
  },
  {
   "cell_type": "markdown",
   "metadata": {},
   "source": [
    "# Run on all datasets"
   ]
  },
  {
   "cell_type": "code",
   "execution_count": 3,
   "metadata": {},
   "outputs": [
    {
     "data": {
      "application/vnd.jupyter.widget-view+json": {
       "model_id": "4ec1593d9a6247cf910edc1ab767fd1f",
       "version_major": 2,
       "version_minor": 0
      },
      "text/plain": [
       "HBox(children=(IntProgress(value=0, max=1), HTML(value='')))"
      ]
     },
     "metadata": {},
     "output_type": "display_data"
    },
    {
     "name": "stdout",
     "output_type": "stream",
     "text": [
      "CharacterTrajectories\n",
      "data has been loaded\n",
      "Error: smth is wrong\n",
      "\n",
      "\n"
     ]
    }
   ],
   "source": [
    "datasets_directory = \"/root/data/Multivariate_ts/\"\n",
    "datasets_names_lst = os.listdir(datasets_directory)\n",
    "\n",
    "for dataset_name in tqdm(datasets_names_lst[4:]): # start from the 3rd dataset\n",
    "    logging.info(f'{dataset_name}')\n",
    "    print(dataset_name)\n",
    "    \n",
    "    try:\n",
    "        X_train, y_train = load_from_tsfile_to_dataframe(datasets_directory\\\n",
    "                                                         + dataset_name + f'/{dataset_name}_TRAIN.ts')\n",
    "        X_test, y_test = load_from_tsfile_to_dataframe(datasets_directory\\\n",
    "                                                       + dataset_name + f'/{dataset_name}_TEST.ts')\n",
    "        print('data has been loaded')\n",
    "\n",
    "        X_train = simple_preproc_before_knn(X_train)\n",
    "        X_test = simple_preproc_before_knn(X_test)\n",
    "\n",
    "        y_train = preproc_answers(y_train)\n",
    "        y_test = preproc_answers(y_test)\n",
    "        print('data has been preprocessed')\n",
    "\n",
    "#         knn = KNeighborsTimeSeriesClassifier(n_neighbors=1, metric='euclidean')\n",
    "        knn = KNeighborsClassifier(n_neighbors=1, metric='euclidean')\n",
    "        knn.fit(X_train, y_train)\n",
    "\n",
    "        test_predictions = knn.predict(X_test)\n",
    "        test_accuracy = accuracy_score(test_predictions, y_test)\n",
    "        logging.info(f\"test_accuracy: {test_accuracy}\\n\")\n",
    "        print('test_accuracy:',test_accuracy)\n",
    "        print('\\n')\n",
    "    except:\n",
    "        print('Error: smth is wrong\\n')\n",
    "        logging.info(f\"Error: smth is wrong\\n\")"
   ]
  },
  {
   "cell_type": "markdown",
   "metadata": {},
   "source": [
    "# One dataset example"
   ]
  },
  {
   "cell_type": "code",
   "execution_count": 30,
   "metadata": {},
   "outputs": [],
   "source": [
    "# def preproc_before_knn_dtw(X):\n",
    "#     X = X.applymap(np.array)\n",
    "\n",
    "#     dimensions_lst = []\n",
    "\n",
    "#     for dim in X.columns:\n",
    "#         dimensions_lst.append(np.dstack(list(X[dim].values))[0])\n",
    "\n",
    "#     dimensions_lst = np.array(dimensions_lst)\n",
    "#     X = torch.from_numpy(np.array(dimensions_lst, dtype=np.float64))\n",
    "#     X = X.transpose(0, 2)\n",
    "#     X = X.transpose(1, 2)\n",
    "#     X = F.normalize(X, dim=1)\n",
    "#     X = X.float().numpy()\n",
    "#     return X"
   ]
  },
  {
   "cell_type": "code",
   "execution_count": 22,
   "metadata": {},
   "outputs": [],
   "source": [
    "datasets_directory = \"/root/data/Multivariate_ts/\"\n",
    "\n",
    "# dataset_name = 'ERing'\n",
    "# dataset_name = 'InsectWingbeat'\n",
    "# dataset_name = 'Cricket'\n",
    "# dataset_name = 'CharacterTrajectories'\n",
    "dataset_name = 'HandMovementDirection'\n",
    "\n",
    "\n",
    "X_train, y_train = load_from_tsfile_to_dataframe(datasets_directory + dataset_name + f'/{dataset_name}_TRAIN.ts')\n",
    "X_test, y_test = load_from_tsfile_to_dataframe(datasets_directory + dataset_name + f'/{dataset_name}_TEST.ts')"
   ]
  },
  {
   "cell_type": "code",
   "execution_count": 23,
   "metadata": {},
   "outputs": [],
   "source": [
    "ms = preprocessing.MinMaxScaler()\n",
    "\n",
    "X_train = simple_preproc_before_knn(X_train)\n",
    "X_test = simple_preproc_before_knn(X_test)\n",
    "\n",
    "X_train = ms.fit_transform(X_train)\n",
    "X_test = ms.transform(X_test)\n",
    "\n",
    "y_train = preproc_answers(y_train)\n",
    "y_test = preproc_answers(y_test)\n",
    "\n",
    "# print(X_train.shape)\n",
    "# print(X_test.shape)"
   ]
  },
  {
   "cell_type": "code",
   "execution_count": 24,
   "metadata": {
    "scrolled": true
   },
   "outputs": [
    {
     "name": "stdout",
     "output_type": "stream",
     "text": [
      "train_accuracy: 1.0\n",
      "test_accuracy: 0.28378\n"
     ]
    }
   ],
   "source": [
    "knn = KNeighborsClassifier(n_neighbors=1, metric='euclidean')\n",
    "# knn = KNeighborsTimeSeriesClassifier(n_neighbors=1, metric='euclidean')\n",
    "knn.fit(X_train, y_train)\n",
    "\n",
    "train_predictions = knn.predict(X_train)\n",
    "train_accuracy = accuracy_score(train_predictions, y_train)\n",
    "print('train_accuracy:', round(train_accuracy,5))\n",
    "\n",
    "test_predictions = knn.predict(X_test)\n",
    "test_accuracy = accuracy_score(test_predictions, y_test)\n",
    "print('test_accuracy:', round(test_accuracy,5))"
   ]
  },
  {
   "cell_type": "code",
   "execution_count": null,
   "metadata": {},
   "outputs": [],
   "source": []
  }
 ],
 "metadata": {
  "kernelspec": {
   "display_name": "Python 3",
   "language": "python",
   "name": "python3"
  },
  "language_info": {
   "codemirror_mode": {
    "name": "ipython",
    "version": 3
   },
   "file_extension": ".py",
   "mimetype": "text/x-python",
   "name": "python",
   "nbconvert_exporter": "python",
   "pygments_lexer": "ipython3",
   "version": "3.6.7"
  }
 },
 "nbformat": 4,
 "nbformat_minor": 4
}
