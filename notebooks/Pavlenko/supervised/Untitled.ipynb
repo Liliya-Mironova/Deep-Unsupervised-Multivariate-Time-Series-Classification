{
 "cells": [
  {
   "cell_type": "code",
   "execution_count": 1,
   "metadata": {},
   "outputs": [],
   "source": [
    "ds_path = \"ArticularyWordRecognition/ArticularyWordRecognition\"\n",
    "label_enc=True\n",
    "dims_num = 9\n",
    "num_classes = 25\n",
    "magic_dim = 9216\n",
    "\n",
    "# ds_path = \"FaceDetection/FaceDetection\"\n",
    "# dims_num = 144\n",
    "# label_enc=True\n",
    "# num_classes = 2\n",
    "# magic_dim = 3968"
   ]
  },
  {
   "cell_type": "code",
   "execution_count": 2,
   "metadata": {},
   "outputs": [],
   "source": [
    "datadir = \"/root/data/Multivariate_ts\"\n",
    "epochs = 40\n",
    "batch_size = 20\n",
    "lr = 0.003"
   ]
  },
  {
   "cell_type": "code",
   "execution_count": 3,
   "metadata": {},
   "outputs": [],
   "source": [
    "import pandas as pd\n",
    "import numpy as np\n",
    "from scipy.io import arff\n",
    "import torch\n",
    "import torch.nn as nn\n",
    "import torch.nn.functional as F\n",
    "from sklearn import preprocessing\n",
    "from sktime.utils.load_data import load_from_tsfile_to_dataframe\n",
    "\n",
    "from tqdm import tqdm\n",
    "import os\n",
    "from datetime import datetime\n",
    "\n",
    "import matplotlib.pyplot as plt"
   ]
  },
  {
   "cell_type": "code",
   "execution_count": 4,
   "metadata": {},
   "outputs": [],
   "source": [
    "device = torch.device(\"cuda\") if torch.cuda.is_available() else torch.device(\"cpu\")"
   ]
  },
  {
   "cell_type": "code",
   "execution_count": 5,
   "metadata": {},
   "outputs": [],
   "source": [
    "def preproc(X, dims_num):\n",
    "    X = X.applymap(np.array)\n",
    "    cols_lst = X.columns\n",
    "    \n",
    "    for col_name in cols_lst:\n",
    "        dimension_values = np.dstack(list(X[col_name].values))[0].T\n",
    "        time_steps_num = dimension_values.shape[1]\n",
    "        \n",
    "        for i in range(time_steps_num):\n",
    "            one_step_values = dimension_values[:, i]\n",
    "            X[col_name + f'_{i}'] = one_step_values\n",
    "    \n",
    "    X = X.drop(columns=cols_lst)\n",
    "    \n",
    "    step = int(X.shape[1] / dims_num)\n",
    "    X_3d = []\n",
    "    init = 0\n",
    "    for dim_num in range(dims_num):\n",
    "        X_3d.append(X.iloc[:, init:init + step])\n",
    "        init += step\n",
    "    X_3d = np.dstack(X_3d)\n",
    "    return X_3d\n",
    "\n",
    "def load_file(filepath, dims_num, is_arff=False):\n",
    "    if is_arff:\n",
    "        data = arff.loadarff(filepath) \n",
    "        data = pd.DataFrame(data[0])\n",
    "        X = data.iloc[:, :-1] # [30, 65] x 4 times\n",
    "        y = data.iloc[:, -1]\n",
    "        return X.values, y.values\n",
    "    else:\n",
    "        X, y = load_from_tsfile_to_dataframe(filepath)\n",
    "        X = preproc(X, dims_num)\n",
    "        return X, y\n",
    "\n",
    "def load_group(prefix, filenames, dims_num, is_arff=False):\n",
    "    loaded = []\n",
    "    if is_arff:\n",
    "        for name in filenames: \n",
    "            X, y = load_file(prefix + \"/\" + name, dims_num, is_arff=is_arff) # [30, 65]\n",
    "            loaded.append(X)\n",
    "            # stack group so that features are the 3rd dimension \n",
    "        loaded = np.dstack(loaded) # [30, 65, 4]\n",
    "    else:\n",
    "        loaded, y = load_file(prefix + \"/\" + filenames[0], dims_num, is_arff=is_arff) # [30, 65, 4]\n",
    "    return loaded, y\n",
    "\n",
    "def load_dataset_group(folder_path, ds_path, dims_num, is_train=True, label_enc=False, is_arff=False): \n",
    "    filenames = []\n",
    "    extension = \".arff\" if is_arff else \".ts\"\n",
    "    postfix = \"_TRAIN\" if is_train else \"_TEST\"\n",
    "    \n",
    "    if is_arff:\n",
    "        for dim_num in range(1, dims_num + 1):\n",
    "            filenames.append(ds_path + str(dim_num) + postfix + extension)\n",
    "    else:\n",
    "        filenames.append(ds_path + postfix + extension)\n",
    "\n",
    "    X, y = load_group(folder_path, filenames, dims_num, is_arff=is_arff) # [30, 65, 4]\n",
    "    X = torch.from_numpy(np.array(X, dtype=np.float64))\n",
    "    if label_enc:\n",
    "        le = preprocessing.LabelEncoder()\n",
    "        y = le.fit_transform(y)\n",
    "        y = torch.from_numpy(np.array(y, dtype=np.int32))\n",
    "    else:\n",
    "        y = torch.from_numpy(np.array(y, dtype=np.int32)) - 1\n",
    "    X = X.transpose(1, 2)\n",
    "    return X, y\n",
    "\n",
    "def load_dataset(folder_path, ds_path, dims_num, label_enc=False, is_arff=False): \n",
    "    X_train, y_train = load_dataset_group(folder_path, ds_path, dims_num, \n",
    "                                          is_train=True, label_enc=label_enc, is_arff=is_arff) \n",
    "    X_test, y_test = load_dataset_group(folder_path, ds_path, dims_num, \n",
    "                                        is_train=False, label_enc=label_enc, is_arff=is_arff) \n",
    "    return X_train, y_train, X_test, y_test\n",
    "\n",
    "def iterate_minibatches(inputs, targets, batchsize, shuffle=False):\n",
    "    assert len(inputs) == len(targets)\n",
    "    if shuffle:\n",
    "        indices = np.random.permutation(len(inputs))\n",
    "    for start_idx in range(0, len(inputs) - batchsize + 1, batchsize):\n",
    "        if shuffle:\n",
    "            excerpt = indices[start_idx:start_idx + batchsize]\n",
    "        else:\n",
    "            excerpt = slice(start_idx, start_idx + batchsize)\n",
    "        yield inputs[excerpt], targets[excerpt], excerpt"
   ]
  },
  {
   "cell_type": "code",
   "execution_count": 6,
   "metadata": {},
   "outputs": [
    {
     "name": "stdout",
     "output_type": "stream",
     "text": [
      "X_train.shape: torch.Size([275, 9, 144]) \n",
      "y_train.shape: torch.Size([275])\n",
      "X_test.shape: torch.Size([300, 9, 144]) \n",
      "y_test.shape: torch.Size([300])\n"
     ]
    }
   ],
   "source": [
    "X_train, y_train, X_test, y_test = load_dataset(datadir, ds_path, dims_num, label_enc=label_enc, is_arff=False)\n",
    "magic_dim_cnn = int(X_train.shape[2]/2)*10\n",
    "print(\"X_train.shape:\", X_train.shape, \"\\ny_train.shape:\", y_train.shape)\n",
    "print(\"X_test.shape:\", X_test.shape, \"\\ny_test.shape:\", y_test.shape)"
   ]
  },
  {
   "cell_type": "code",
   "execution_count": 7,
   "metadata": {},
   "outputs": [],
   "source": [
    "import torch.nn as nn\n",
    "import math\n",
    "\n",
    "__all__ = ['resnetv1','resnetv1_18']\n",
    "\n",
    "def conv3x3(in_planes, out_planes, stride=1):\n",
    "    \"\"\"3x3 convolution with padding\"\"\"\n",
    "    return nn.Conv1d(in_planes, out_planes, kernel_size=3, stride=stride,\n",
    "                     padding=1, bias=False)\n",
    "\n",
    "class Normalize(nn.Module):\n",
    "    def __init__(self, power=2):\n",
    "        super(Normalize, self).__init__()\n",
    "        self.power = power\n",
    "\n",
    "    def forward(self, x):\n",
    "        norm = x.pow(self.power).sum(1, keepdim=True).pow(1. / self.power)\n",
    "        out = x.div(norm)\n",
    "        return out\n",
    "\n",
    "class BasicBlock(nn.Module):\n",
    "    expansion = 1\n",
    "\n",
    "    def __init__(self, inplanes, planes, stride=1, downsample=None):\n",
    "        super(BasicBlock, self).__init__()\n",
    "        self.conv1 = conv3x3(inplanes, planes, stride)\n",
    "        self.bn1 = nn.BatchNorm1d(planes)\n",
    "        self.relu = nn.ReLU(inplace=True)\n",
    "        self.conv2 = conv3x3(planes, planes)\n",
    "        self.bn2 = nn.BatchNorm1d(planes)\n",
    "        self.downsample = downsample\n",
    "        self.stride = stride\n",
    "\n",
    "    def forward(self, x):\n",
    "        residual = x\n",
    "        out = self.conv1(x)\n",
    "        out = self.bn1(out)\n",
    "        out = self.relu(out)\n",
    "\n",
    "        out = self.conv2(out)\n",
    "        out = self.bn2(out)\n",
    "\n",
    "        if self.downsample is not None:\n",
    "            residual = self.downsample(x)\n",
    "\n",
    "        out += residual\n",
    "        out = self.relu(out)\n",
    "\n",
    "        return out\n",
    "\n",
    "class Bottleneck(nn.Module):\n",
    "    expansion = 4\n",
    "\n",
    "    def __init__(self, inplanes, planes, stride=1, downsample=None):\n",
    "        super(Bottleneck, self).__init__()\n",
    "        self.conv1 = nn.Conv1d(inplanes, planes, kernel_size=1, bias=False)\n",
    "        self.bn1 = nn.BatchNorm1d(planes)\n",
    "        self.conv2 = nn.Conv1d(planes, planes, kernel_size=3, stride=stride,\n",
    "                               padding=1, bias=False)\n",
    "        self.bn2 = nn.BatchNorm1d(planes)\n",
    "        self.conv3 = nn.Conv1d(planes, planes * 4, kernel_size=1, bias=False)\n",
    "        self.bn3 = nn.BatchNorm1d(planes * 4)\n",
    "        self.relu = nn.ReLU(inplace=True)\n",
    "        self.downsample = downsample\n",
    "        self.stride = stride\n",
    "\n",
    "    def forward(self, x):\n",
    "        residual = x\n",
    "\n",
    "        out = self.conv1(x)\n",
    "        out = self.bn1(out)\n",
    "        out = self.relu(out)\n",
    "\n",
    "        out = self.conv2(out)\n",
    "        out = self.bn2(out)\n",
    "        out = self.relu(out)\n",
    "\n",
    "        out = self.conv3(out)\n",
    "        out = self.bn3(out)\n",
    "\n",
    "        if self.downsample is not None:\n",
    "            residual = self.downsample(x)\n",
    "\n",
    "        out += residual\n",
    "        out = self.relu(out)\n",
    "\n",
    "        return out\n",
    "\n",
    "class ResNet(nn.Module):\n",
    "    def __init__(self, block, layers, in_channel=3, width=1, num_classes=[1000]):\n",
    "        self.inplanes = 16\n",
    "        super(ResNet, self).__init__()\n",
    "        self.headcount = len(num_classes)\n",
    "        self.base = int(16 * width)\n",
    "        self.features = nn.Sequential(*[                                                     # [100, 8, 18]\n",
    "                            nn.Conv1d(in_channel, 16, kernel_size=3, padding=1, bias=False), # [100, 16, 36]\n",
    "                            nn.BatchNorm1d(16),\n",
    "                            nn.ReLU(inplace=True),\n",
    "                            self._make_layer(block, self.base, layers[0]),                   # [100, 16, 36]\n",
    "                            self._make_layer(block, self.base * 2, layers[1]),               # [100, 32, 36]\n",
    "                            self._make_layer(block, self.base * 4, layers[2]),               # [100, 64, 36]\n",
    "                            self._make_layer(block, self.base * 8, layers[3]),               # [100, 128, 36]\n",
    "                            nn.AvgPool1d(2),                                                 # [100, 128, 18]\n",
    "        ])\n",
    "    \n",
    "        if len(num_classes) == 1:\n",
    "            self.top_layer = nn.Sequential(nn.Linear(magic_dim, num_classes[0]))\n",
    "        else:\n",
    "            for a, i in enumerate(num_classes):\n",
    "                setattr(self, \"top_layer%d\" % a, nn.Linear(magic_dim, i))\n",
    "            self.top_layer = None\n",
    "        for m in self.features.modules():\n",
    "            if isinstance(m, nn.Conv1d):\n",
    "                n = m.kernel_size[0] * m.out_channels\n",
    "                m.weight.data.normal_(0, math.sqrt(2. / n))\n",
    "            elif isinstance(m, nn.BatchNorm1d):\n",
    "                m.weight.data.fill_(1)\n",
    "                m.bias.data.zero_()\n",
    "\n",
    "    def _make_layer(self, block, planes, blocks, stride=1):\n",
    "        downsample = None\n",
    "        if stride != 1 or self.inplanes != planes * block.expansion:\n",
    "            downsample = nn.Sequential(\n",
    "                nn.Conv1d(self.inplanes, planes * block.expansion,\n",
    "                          kernel_size=1, stride=stride, bias=False),\n",
    "                nn.BatchNorm1d(planes * block.expansion),\n",
    "            )\n",
    "\n",
    "        layers = []\n",
    "        layers.append(block(self.inplanes, planes, stride, downsample))\n",
    "        self.inplanes = planes * block.expansion\n",
    "        for i in range(1, blocks):\n",
    "            layers.append(block(self.inplanes, planes))\n",
    "        return nn.Sequential(*layers)\n",
    "\n",
    "    def forward(self, x):\n",
    "        out = self.features(x.float())\n",
    "        out = out.view(out.size(0), -1)\n",
    "        if self.headcount == 1:\n",
    "            if self.top_layer:\n",
    "                out = self.top_layer(out)\n",
    "            return out\n",
    "        else:\n",
    "            outp = []\n",
    "            for i in range(self.headcount):\n",
    "                outp.append(getattr(self, \"top_layer%d\" % i)(out))\n",
    "            return outp\n",
    "\n",
    "def resnet18(pretrained=False, **kwargs):\n",
    "    \"\"\"Constructs a ResNet-18 model.\n",
    "    Args:\n",
    "        pretrained (bool): If True, returns a model pre-trained on ImageNet\n",
    "    \"\"\"\n",
    "    model = ResNet(BasicBlock, [2, 2, 2, 2], **kwargs)\n",
    "    return model\n",
    "\n",
    "def resnetv1_18(num_classes=[1000]):\n",
    "    \"\"\"Encoder for instance discrimination and MoCo\"\"\"\n",
    "    return resnet18(num_classes=num_classes)"
   ]
  },
  {
   "cell_type": "code",
   "execution_count": 8,
   "metadata": {},
   "outputs": [],
   "source": [
    "def compute_accuracy(logits, y_true, device='cuda:0'):\n",
    "    y_pred = torch.argmax(logits, dim=1)\n",
    "    return (y_pred == y_true.to(device)).float().mean()"
   ]
  },
  {
   "cell_type": "code",
   "execution_count": 9,
   "metadata": {},
   "outputs": [],
   "source": [
    "def evaluate_net(model, X_test, y_test):\n",
    "    train_loss = []\n",
    "    train_accuracy = []\n",
    "    #net.to(device)\n",
    "    model.eval()\n",
    "    with torch.no_grad():\n",
    "        for i, (x_batch, labels, _) in enumerate(iterate_minibatches(X_test, y_test, batch_size, shuffle=False)):\n",
    "            x_batch = x_batch.to(device)\n",
    "            labels = labels.to(device)\n",
    "            predictions = model(x_batch.float())\n",
    "            loss = criterion(predictions, labels.long())\n",
    "            accuracy = compute_accuracy(predictions, labels, device=device)\n",
    "            \n",
    "            train_loss.append(loss.item())\n",
    "            train_accuracy.append(accuracy.item())\n",
    " \n",
    "        \n",
    "        train_loss_overall = np.mean(train_loss)\n",
    "        #train_loss.append(train_loss_overall.item())    \n",
    "    return train_accuracy, train_loss    "
   ]
  },
  {
   "cell_type": "code",
   "execution_count": 10,
   "metadata": {},
   "outputs": [],
   "source": [
    "def train(model, num_epochs, batch_size, writer=None):\n",
    "    train_loss = []\n",
    "    train_accuracy = []\n",
    "    \n",
    "    for epoch in tqdm(range(num_epochs), desc='train', total=num_epochs):\n",
    "        train_accuracy_batch = []\n",
    "        train_loss_batch = []\n",
    "        for i, (x_batch, labels, _) in enumerate(iterate_minibatches(X_train, y_train, batch_size, shuffle=True)):\n",
    "            x_batch = x_batch.to(device)\n",
    "            labels = labels.to(device)\n",
    "\n",
    "            predictions = model(x_batch.float())\n",
    "            loss = criterion(predictions, labels.long())\n",
    "            optimizer.zero_grad()\n",
    "            loss.backward()\n",
    "            optimizer.step()\n",
    "            \n",
    "            if True:\n",
    "                accuracy = compute_accuracy(predictions, labels, device=device)\n",
    "                \n",
    "                train_loss_batch.append(loss.item())\n",
    "                train_accuracy_batch.append(accuracy.item())\n",
    "                if writer:\n",
    "                    writer.add_scalar('train/loss', loss.item(), global_step=len(train_loss))\n",
    "            \n",
    "        train_accuracy_overall = np.mean(train_accuracy_batch) * 100\n",
    "        train_accuracy.append(train_accuracy_overall.item())\n",
    "        \n",
    "        train_loss_overall = np.mean(train_loss_batch)\n",
    "        train_loss.append(train_loss_overall.item())\n",
    "        if writer:\n",
    "            writer.add_scalar('train/accuracy', train_accuracy_overall.item(), epoch + 1)\n",
    "        \n",
    "    return train_accuracy_overall, train_loss_overall, train_accuracy, train_loss"
   ]
  },
  {
   "cell_type": "code",
   "execution_count": 11,
   "metadata": {},
   "outputs": [],
   "source": [
    "def plot_loss_and_acc(loss, acc):\n",
    "    plt.figure(figsize=(12, 4))\n",
    "    plt.subplot(121)\n",
    "    plt.plot(loss)\n",
    "    plt.grid(True)\n",
    "    plt.title(\"Loss\")\n",
    "    plt.subplot(122)\n",
    "    plt.plot(acc)\n",
    "    plt.grid(True)\n",
    "    plt.title(\"Accuracy, %\");"
   ]
  },
  {
   "cell_type": "code",
   "execution_count": 12,
   "metadata": {},
   "outputs": [],
   "source": [
    "hc=1       # number of heads\n",
    "ncl=num_classes # number of clusters\n",
    "\n",
    "numc = [ncl] * hc"
   ]
  },
  {
   "cell_type": "code",
   "execution_count": 13,
   "metadata": {},
   "outputs": [
    {
     "name": "stderr",
     "output_type": "stream",
     "text": [
      "train: 100%|██████████| 40/40 [00:10<00:00,  3.74it/s]\n"
     ]
    },
    {
     "data": {
      "text/plain": [
       "(100.0, 0.0001151891838512361)"
      ]
     },
     "execution_count": 13,
     "metadata": {},
     "output_type": "execute_result"
    }
   ],
   "source": [
    "model_resnet = resnet18(num_classes=numc, in_channel=dims_num).to(device)\n",
    "\n",
    "criterion = nn.CrossEntropyLoss()\n",
    "optimizer = torch.optim.Adam(model_resnet.parameters(), lr=lr)\n",
    "\n",
    "exp_name = datetime.now().isoformat(timespec='seconds') + f'ResNet'\n",
    "exp_name = str.replace(exp_name, \":\", \"-\")\n",
    "# writer = SummaryWriter(f'logs/{exp_name}')\n",
    "train_accuracy_overall, train_loss_overall, train_accuracy, train_loss = train(model_resnet, epochs, batch_size, writer=None)\n",
    "train_accuracy_overall, train_loss_overall"
   ]
  },
  {
   "cell_type": "code",
   "execution_count": 14,
   "metadata": {},
   "outputs": [
    {
     "data": {
      "image/png": "[encoded data removed]",
      "text/plain": [
       "<Figure size 864x288 with 2 Axes>"
      ]
     },
     "metadata": {
      "needs_background": "light"
     },
     "output_type": "display_data"
    }
   ],
   "source": [
    "plot_loss_and_acc(train_loss, train_accuracy)"
   ]
  },
  {
   "cell_type": "code",
   "execution_count": 15,
   "metadata": {},
   "outputs": [],
   "source": [
    "a, b = evaluate_net(model_resnet, X_train, y_train)"
   ]
  },
  {
   "cell_type": "code",
   "execution_count": 16,
   "metadata": {},
   "outputs": [
    {
     "data": {
      "text/plain": [
       "1.0"
      ]
     },
     "execution_count": 16,
     "metadata": {},
     "output_type": "execute_result"
    }
   ],
   "source": [
    "np.mean(a)"
   ]
  },
  {
   "cell_type": "code",
   "execution_count": 17,
   "metadata": {},
   "outputs": [],
   "source": [
    "a, b = evaluate_net(model_resnet, X_test, y_test)"
   ]
  },
  {
   "cell_type": "code",
   "execution_count": 18,
   "metadata": {},
   "outputs": [
    {
     "data": {
      "text/plain": [
       "0.8733333468437194"
      ]
     },
     "execution_count": 18,
     "metadata": {},
     "output_type": "execute_result"
    }
   ],
   "source": [
    "np.mean(a)"
   ]
  },
  {
   "cell_type": "code",
   "execution_count": null,
   "metadata": {},
   "outputs": [],
   "source": []
  }
 ],
 "metadata": {
  "kernelspec": {
   "display_name": "Python 3",
   "language": "python",
   "name": "python3"
  },
  "language_info": {
   "codemirror_mode": {
    "name": "ipython",
    "version": 3
   },
   "file_extension": ".py",
   "mimetype": "text/x-python",
   "name": "python",
   "nbconvert_exporter": "python",
   "pygments_lexer": "ipython3",
   "version": "3.6.7"
  }
 },
 "nbformat": 4,
 "nbformat_minor": 2
}
