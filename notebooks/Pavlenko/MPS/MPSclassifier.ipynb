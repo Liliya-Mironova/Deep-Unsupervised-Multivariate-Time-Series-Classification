{
 "cells": [
  {
   "cell_type": "code",
   "execution_count": 1,
   "metadata": {},
   "outputs": [],
   "source": [
    "import numpy as np\n",
    "import torch, torch.nn as nn\n",
    "import torchvision\n",
    "import matplotlib.pyplot as plt\n",
    "from time import time\n",
    "from torchvision import datasets, transforms\n",
    "\n",
    "\n",
    "from tqdm.notebook import tqdm"
   ]
  },
  {
   "cell_type": "code",
   "execution_count": 43,
   "metadata": {},
   "outputs": [
    {
     "name": "stdout",
     "output_type": "stream",
     "text": [
      "Sun Jun  7 12:00:49 2020       \n",
      "+-----------------------------------------------------------------------------+\n",
      "| NVIDIA-SMI 440.64       Driver Version: 440.64       CUDA Version: 10.2     |\n",
      "|-------------------------------+----------------------+----------------------+\n",
      "| GPU  Name        Persistence-M| Bus-Id        Disp.A | Volatile Uncorr. ECC |\n",
      "| Fan  Temp  Perf  Pwr:Usage/Cap|         Memory-Usage | GPU-Util  Compute M. |\n",
      "|===============================+======================+======================|\n",
      "|   0  GeForce GTX 108...  Off  | 00000000:05:00.0 Off |                  N/A |\n",
      "|  0%   37C    P8     8W / 250W |  10325MiB / 11177MiB |      0%      Default |\n",
      "+-------------------------------+----------------------+----------------------+\n",
      "|   1  GeForce GTX 108...  Off  | 00000000:06:00.0 Off |                  N/A |\n",
      "|  0%   44C    P2   162W / 250W |   7192MiB / 11178MiB |     70%      Default |\n",
      "+-------------------------------+----------------------+----------------------+\n",
      "|   2  GeForce GTX 108...  Off  | 00000000:09:00.0 Off |                  N/A |\n",
      "|  0%   37C    P8    10W / 250W |     10MiB / 11178MiB |      0%      Default |\n",
      "+-------------------------------+----------------------+----------------------+\n",
      "|   3  GeForce GTX 108...  Off  | 00000000:0A:00.0 Off |                  N/A |\n",
      "|  0%   40C    P8     9W / 250W |     10MiB / 11178MiB |      0%      Default |\n",
      "+-------------------------------+----------------------+----------------------+\n",
      "                                                                               \n",
      "+-----------------------------------------------------------------------------+\n",
      "| Processes:                                                       GPU Memory |\n",
      "|  GPU       PID   Type   Process name                             Usage      |\n",
      "|=============================================================================|\n",
      "|    0     17411      C   /opt/conda/bin/python                        643MiB |\n",
      "+-----------------------------------------------------------------------------+\n"
     ]
    }
   ],
   "source": [
    "gpu_info = !nvidia-smi\n",
    "gpu_info = '\\n'.join(gpu_info)\n",
    "if gpu_info.find('failed') >= 0:\n",
    "  print('Select the Runtime → \"Change runtime type\" menu to enable a GPU accelerator, ')\n",
    "  print('and then re-execute this cell.')\n",
    "else:\n",
    "  print(gpu_info)"
   ]
  },
  {
   "cell_type": "code",
   "execution_count": 3,
   "metadata": {},
   "outputs": [
    {
     "data": {
      "text/plain": [
       "'0.6.0'"
      ]
     },
     "execution_count": 3,
     "metadata": {},
     "output_type": "execute_result"
    }
   ],
   "source": [
    "torchvision.__version__"
   ]
  },
  {
   "cell_type": "code",
   "execution_count": 6,
   "metadata": {},
   "outputs": [],
   "source": [
    "batch_size = 64\n",
    "n_classes = 10\n",
    "epochs = 100\n",
    "\n",
    "chi = 10 # MPS bond dimension"
   ]
  },
  {
   "cell_type": "code",
   "execution_count": 4,
   "metadata": {},
   "outputs": [
    {
     "name": "stdout",
     "output_type": "stream",
     "text": [
      "Downloading http://yann.lecun.com/exdb/mnist/train-images-idx3-ubyte.gz to /files/MNIST/raw/train-images-idx3-ubyte.gz\n"
     ]
    },
    {
     "data": {
      "application/vnd.jupyter.widget-view+json": {
       "model_id": "4d8e1f5ea159463781caf451a6ed4261",
       "version_major": 2,
       "version_minor": 0
      },
      "text/plain": [
       "HBox(children=(IntProgress(value=1, bar_style='info', max=1), HTML(value='')))"
      ]
     },
     "metadata": {},
     "output_type": "display_data"
    },
    {
     "name": "stdout",
     "output_type": "stream",
     "text": [
      "Extracting /files/MNIST/raw/train-images-idx3-ubyte.gz to /files/MNIST/raw\n",
      "Downloading http://yann.lecun.com/exdb/mnist/train-labels-idx1-ubyte.gz to /files/MNIST/raw/train-labels-idx1-ubyte.gz\n"
     ]
    },
    {
     "data": {
      "application/vnd.jupyter.widget-view+json": {
       "model_id": "d7ecdb9cd9224ba38e727f81dc396f71",
       "version_major": 2,
       "version_minor": 0
      },
      "text/plain": [
       "HBox(children=(IntProgress(value=1, bar_style='info', max=1), HTML(value='')))"
      ]
     },
     "metadata": {},
     "output_type": "display_data"
    },
    {
     "name": "stdout",
     "output_type": "stream",
     "text": [
      "Extracting /files/MNIST/raw/train-labels-idx1-ubyte.gz to /files/MNIST/raw\n",
      "Downloading http://yann.lecun.com/exdb/mnist/t10k-images-idx3-ubyte.gz to /files/MNIST/raw/t10k-images-idx3-ubyte.gz\n"
     ]
    },
    {
     "data": {
      "application/vnd.jupyter.widget-view+json": {
       "model_id": "c5df4245775d44cb8a26698f37824409",
       "version_major": 2,
       "version_minor": 0
      },
      "text/plain": [
       "HBox(children=(IntProgress(value=1, bar_style='info', max=1), HTML(value='')))"
      ]
     },
     "metadata": {},
     "output_type": "display_data"
    },
    {
     "name": "stdout",
     "output_type": "stream",
     "text": [
      "Extracting /files/MNIST/raw/t10k-images-idx3-ubyte.gz to /files/MNIST/raw\n",
      "Downloading http://yann.lecun.com/exdb/mnist/t10k-labels-idx1-ubyte.gz to /files/MNIST/raw/t10k-labels-idx1-ubyte.gz\n"
     ]
    },
    {
     "data": {
      "application/vnd.jupyter.widget-view+json": {
       "model_id": "28147ce6874f4939b659ce6c2a656352",
       "version_major": 2,
       "version_minor": 0
      },
      "text/plain": [
       "HBox(children=(IntProgress(value=1, bar_style='info', max=1), HTML(value='')))"
      ]
     },
     "metadata": {},
     "output_type": "display_data"
    },
    {
     "name": "stdout",
     "output_type": "stream",
     "text": [
      "Extracting /files/MNIST/raw/t10k-labels-idx1-ubyte.gz to /files/MNIST/raw\n",
      "Processing...\n",
      "\n",
      "\n",
      "\n",
      "Done!\n"
     ]
    },
    {
     "name": "stderr",
     "output_type": "stream",
     "text": [
      "/pytorch/torch/csrc/utils/tensor_numpy.cpp:141: UserWarning: The given NumPy array is not writeable, and PyTorch does not support non-writeable tensors. This means you can write to the underlying (supposedly non-writeable) NumPy array using the tensor. You may want to copy the array to protect its data or make it writeable before converting it to a tensor. This type of warning will be suppressed for the rest of this program.\n"
     ]
    }
   ],
   "source": [
    "trainset = datasets.MNIST('/files/', download=True, train=True, transform=transforms.ToTensor())\n",
    "valset = datasets.MNIST('/files/', download=True, train=False, transform=transforms.ToTensor())"
   ]
  },
  {
   "cell_type": "code",
   "execution_count": 7,
   "metadata": {},
   "outputs": [
    {
     "name": "stdout",
     "output_type": "stream",
     "text": [
      "Train/val dataloaders have 938 and 157 batches\n"
     ]
    }
   ],
   "source": [
    "trainset.data = trainset.data.view(-1, 784)\n",
    "valset.data = valset.data.view(-1, 784)\n",
    "\n",
    "XX = trainset.data/255.\n",
    "X = torch.zeros(XX.size()[0], XX.size()[1], 2)\n",
    "X[:, :, 0] = XX\n",
    "X[:, :, 1] = 1 - XX\n",
    "y = trainset.targets\n",
    "tensor_trainset = torch.utils.data.TensorDataset(X, y)\n",
    "\n",
    "XX = valset.data/255.\n",
    "X = torch.zeros(XX.size()[0], XX.size()[1], 2)\n",
    "X[:, :, 0] = XX\n",
    "X[:, :, 1] = 1 - XX\n",
    "y = valset.targets\n",
    "tensor_valset = torch.utils.data.TensorDataset(X, y)\n",
    "\n",
    "num_workers = 3\n",
    "\n",
    "train_dataloader = torch.utils.data.DataLoader(\n",
    "    tensor_trainset, batch_size=batch_size,\n",
    "    num_workers=num_workers, shuffle=True, pin_memory=True)\n",
    "\n",
    "val_dataloader = torch.utils.data.DataLoader(\n",
    "    tensor_valset, batch_size=batch_size,\n",
    "    num_workers=num_workers, shuffle=False, pin_memory=True)\n",
    "\n",
    "print(f\"Train/val dataloaders have {len(train_dataloader)} and {len(val_dataloader)} batches\")"
   ]
  },
  {
   "cell_type": "code",
   "execution_count": 8,
   "metadata": {},
   "outputs": [
    {
     "name": "stdout",
     "output_type": "stream",
     "text": [
      "torch.Size([64, 784, 2])\n",
      "torch.Size([64])\n"
     ]
    }
   ],
   "source": [
    "dataiter = iter(val_dataloader)\n",
    "images, labels = dataiter.next()\n",
    "\n",
    "print(images.shape)\n",
    "print(labels.shape)"
   ]
  },
  {
   "cell_type": "code",
   "execution_count": 10,
   "metadata": {},
   "outputs": [
    {
     "data": {
      "image/png": "[encoded data removed]",
      "text/plain": [
       "<Figure size 432x288 with 20 Axes>"
      ]
     },
     "metadata": {
      "needs_background": "light"
     },
     "output_type": "display_data"
    }
   ],
   "source": [
    "figure = plt.figure()\n",
    "num_of_images = 20\n",
    "for index in range(1, num_of_images + 1):\n",
    "    plt.subplot(6, 10, index)\n",
    "    plt.axis('off')\n",
    "    plt.imshow(images[index - 1][:, 1].numpy().squeeze().reshape(28, 28), cmap='gray_r')"
   ]
  },
  {
   "cell_type": "code",
   "execution_count": 20,
   "metadata": {},
   "outputs": [],
   "source": [
    "def set_learning_rate(optimizer, new_learning_rate):\n",
    "    \"\"\"Set learning rates of the optimizer to `new_learning_rate`.\"\"\"\n",
    "    for param_group in optimizer.param_groups:\n",
    "        param_group['lr'] = new_learning_rate\n",
    "        \n",
    "def validate(model, dataloader):\n",
    "    \"\"\"Compute accuracy on the `dataloader` dataset.\"\"\"\n",
    "    model.eval()\n",
    "\n",
    "    correct, total = 0, 0\n",
    "\n",
    "    with torch.no_grad():\n",
    "        for images, labels in dataloader:\n",
    "            labels = labels.to(DEVICE)\n",
    "            probabilities = model(images.to(DEVICE))\n",
    "            predictions = probabilities.max(1)[1]\n",
    "\n",
    "            total += len(labels)\n",
    "            correct += (predictions == labels).sum().item()\n",
    "            \n",
    "    return correct / total"
   ]
  },
  {
   "cell_type": "code",
   "execution_count": 21,
   "metadata": {},
   "outputs": [],
   "source": [
    "n_sites = 784\n",
    "torch.manual_seed(0)\n",
    "\n",
    "DEVICE = 'cuda:0' if torch.cuda.is_available() else 'cpu'\n",
    "images, labels= images.to(DEVICE), labels.to(DEVICE)\n"
   ]
  },
  {
   "cell_type": "markdown",
   "metadata": {},
   "source": [
    "## MPS without isometries"
   ]
  },
  {
   "cell_type": "code",
   "execution_count": 22,
   "metadata": {},
   "outputs": [],
   "source": [
    "class MPSLayer(torch.nn.Module):\n",
    "  def __init__(self, n_sites, chi, n_output):\n",
    "    super(MPSLayer, self).__init__()\n",
    "    if n_sites % 2:\n",
    "      raise NotImplementedError(\"Number of sites should be even but is \"\n",
    "                                  \"{}.\".format(n_sites))\n",
    "    self.n_half = n_sites // 2\n",
    "    self.left = nn.Parameter(self._initializer(self.n_half, 2, chi))\n",
    "    self.right = nn.Parameter(self._initializer(self.n_half, 2, chi))\n",
    "    self.middle = nn.Parameter(self._initializer(n_output, 1, chi)[0])\n",
    "\n",
    "  @staticmethod\n",
    "  def _initializer(n_sites, d_phys, chi):\n",
    "    w = torch.stack(d_phys * n_sites * (torch.eye(chi),))\n",
    "    w = w.view(d_phys, n_sites, chi, chi)\n",
    "    return w + torch.empty(d_phys, n_sites, chi, chi).normal_(mean=0,std=1e-2)\n",
    "\n",
    "  @staticmethod\n",
    "  def reduction(tensor):\n",
    "    length = tensor.size()[0]\n",
    "    while length > 1:\n",
    "      half_length = length // 2\n",
    "      nice_length = 2*half_length\n",
    "      leftover = tensor[nice_length:]\n",
    "      tensor = torch.matmul(tensor[0:nice_length:2], tensor[1:nice_length:2])\n",
    "      tensor = torch.cat((tensor, leftover), axis=0)\n",
    "      length = half_length + int(length % 2 == 1)\n",
    "    return tensor[0]  \n",
    "\n",
    "  def forward(self, inputs):\n",
    "    left = torch.einsum(\"slij,bls->lbij\", self.left, inputs[:, :self.n_half])\n",
    "    right = torch.einsum(\"slij,bls->lbij\", self.right, inputs[:, self.n_half:])\n",
    "    left = self.reduction(left)\n",
    "    right = self.reduction(right)\n",
    "    return torch.einsum(\"bij,cjk,bki->bc\", left, self.middle, right)        "
   ]
  },
  {
   "cell_type": "code",
   "execution_count": 28,
   "metadata": {},
   "outputs": [],
   "source": [
    "model = nn.Sequential(\n",
    "    MPSLayer(n_sites, chi, n_classes),\n",
    "    nn.LogSoftmax(dim=1)\n",
    ")\n",
    "\n",
    "model.to(DEVICE);"
   ]
  },
  {
   "cell_type": "code",
   "execution_count": 29,
   "metadata": {},
   "outputs": [],
   "source": [
    "trainable_parameters = model.parameters()\n",
    "criterion = torch.nn.CrossEntropyLoss()\n",
    "\n",
    "learning_rate = 3e-4\n",
    "optimizer = torch.optim.Adam(\n",
    "    trainable_parameters, lr=learning_rate, weight_decay=1e-4)"
   ]
  },
  {
   "cell_type": "code",
   "execution_count": 30,
   "metadata": {},
   "outputs": [],
   "source": [
    "def train(model, dataloader, criterion, optimizer):\n",
    "    \"\"\"Train for one epoch, return accuracy and average loss.\"\"\"\n",
    "    model.train()\n",
    "\n",
    "    correct, total = 0, 0\n",
    "    total_loss = 0.0\n",
    "\n",
    "    for images, labels in tqdm(dataloader):\n",
    "        probabilities = model(images.to(DEVICE))\n",
    "\n",
    "        with torch.no_grad():\n",
    "            labels = labels.to(DEVICE)\n",
    "            predictions = probabilities.max(1)[1]\n",
    "            \n",
    "            total += len(labels)\n",
    "            correct += (predictions == labels).sum().item()\n",
    "\n",
    "        loss_value = criterion(probabilities, labels)\n",
    "        total_loss += loss_value.item() * len(labels)\n",
    "        \n",
    "        optimizer.zero_grad()\n",
    "       \n",
    "\n",
    "        loss_value.backward()\n",
    "        optimizer.step()\n",
    "    return correct / total, total_loss / total"
   ]
  },
  {
   "cell_type": "code",
   "execution_count": 31,
   "metadata": {},
   "outputs": [],
   "source": [
    "epochs = 0\n",
    "train_accuracy, val_accuracy, train_loss = float('nan'), float('nan'), float('nan')"
   ]
  },
  {
   "cell_type": "code",
   "execution_count": 32,
   "metadata": {},
   "outputs": [
    {
     "name": "stdout",
     "output_type": "stream",
     "text": [
      "After 0 epochs, training accuracy: nan% (loss nan), validation accuracy: 8.97%\n"
     ]
    },
    {
     "data": {
      "application/vnd.jupyter.widget-view+json": {
       "model_id": "e2eb86f0dadc4a4490caaf07deb78c9c",
       "version_major": 2,
       "version_minor": 0
      },
      "text/plain": [
       "HBox(children=(IntProgress(value=0, max=938), HTML(value='')))"
      ]
     },
     "metadata": {},
     "output_type": "display_data"
    },
    {
     "name": "stdout",
     "output_type": "stream",
     "text": [
      "\n",
      "After 1 epochs, training accuracy: 90.94% (loss 0.2983), validation accuracy: 95.78%\n"
     ]
    },
    {
     "data": {
      "application/vnd.jupyter.widget-view+json": {
       "model_id": "5f20b8bce4304641b6a97ceaefd44991",
       "version_major": 2,
       "version_minor": 0
      },
      "text/plain": [
       "HBox(children=(IntProgress(value=0, max=938), HTML(value='')))"
      ]
     },
     "metadata": {},
     "output_type": "display_data"
    },
    {
     "name": "stdout",
     "output_type": "stream",
     "text": [
      "\n",
      "After 2 epochs, training accuracy: 95.99% (loss 0.1409), validation accuracy: 96.05%\n"
     ]
    },
    {
     "data": {
      "application/vnd.jupyter.widget-view+json": {
       "model_id": "767cee137c9e4fdaa0109b1c8ae1eea0",
       "version_major": 2,
       "version_minor": 0
      },
      "text/plain": [
       "HBox(children=(IntProgress(value=0, max=938), HTML(value='')))"
      ]
     },
     "metadata": {},
     "output_type": "display_data"
    },
    {
     "name": "stdout",
     "output_type": "stream",
     "text": [
      "\n",
      "After 3 epochs, training accuracy: 96.68% (loss 0.1146), validation accuracy: 96.70%\n"
     ]
    },
    {
     "data": {
      "application/vnd.jupyter.widget-view+json": {
       "model_id": "b87cc490f1fe421eb3c2e1c42c75e20b",
       "version_major": 2,
       "version_minor": 0
      },
      "text/plain": [
       "HBox(children=(IntProgress(value=0, max=938), HTML(value='')))"
      ]
     },
     "metadata": {},
     "output_type": "display_data"
    },
    {
     "name": "stdout",
     "output_type": "stream",
     "text": [
      "\n",
      "After 4 epochs, training accuracy: 97.00% (loss 0.1062), validation accuracy: 96.61%\n"
     ]
    },
    {
     "data": {
      "application/vnd.jupyter.widget-view+json": {
       "model_id": "7ce515c1a8da4c6da2b19f9856afe7ad",
       "version_major": 2,
       "version_minor": 0
      },
      "text/plain": [
       "HBox(children=(IntProgress(value=0, max=938), HTML(value='')))"
      ]
     },
     "metadata": {},
     "output_type": "display_data"
    },
    {
     "name": "stdout",
     "output_type": "stream",
     "text": [
      "\n",
      "After 5 epochs, training accuracy: 97.26% (loss 0.0981), validation accuracy: 97.60%\n"
     ]
    }
   ],
   "source": [
    "for _ in range(5):\n",
    "    # Compute validation accuracy\n",
    "    val_accuracy = validate(model, val_dataloader)\n",
    "    print(\n",
    "        f\"After {epochs} epochs, training accuracy: {train_accuracy * 100:.2f}%\"\n",
    "        f\" (loss {train_loss:.4f}), validation accuracy: {val_accuracy * 100:.2f}%\")\n",
    "\n",
    "    # Train for one epoch\n",
    "    train_accuracy, train_loss = train(model, train_dataloader, criterion, optimizer)\n",
    "    epochs += 1\n",
    "\n",
    "    # Decrease learning rate sometimes\n",
    "    if epochs in (8, 13, 16):\n",
    "        learning_rate /= 10\n",
    "        set_learning_rate(optimizer, learning_rate)\n",
    "        print(f\"Decreasing the learning rate to {learning_rate}\")\n",
    "\n",
    "# Compute final validation accuracy\n",
    "val_accuracy = validate(model, val_dataloader)\n",
    "print(\n",
    "    f\"After {epochs} epochs, training accuracy: {train_accuracy * 100:.2f}%\"\n",
    "    f\" (loss {train_loss:.4f}), validation accuracy: {val_accuracy * 100:.2f}%\")"
   ]
  },
  {
   "cell_type": "markdown",
   "metadata": {},
   "source": [
    "## MPS with isometries"
   ]
  },
  {
   "cell_type": "code",
   "execution_count": 36,
   "metadata": {},
   "outputs": [],
   "source": [
    "class IsoMPSLayer(torch.nn.Module):\n",
    "  def __init__(self, n_sites, chi, n_output):\n",
    "    super(IsoMPSLayer, self).__init__()\n",
    "    if n_sites % 2:\n",
    "      raise NotImplementedError(\"Number of sites should be even but is \"\n",
    "                                  \"{}.\".format(n_sites))\n",
    "    self.n_half = n_sites // 2\n",
    "    self.left = nn.Parameter(self._initializer(self.n_half, 2, chi))\n",
    "    self.right = nn.Parameter(self._initializer(self.n_half, 2, chi))\n",
    "    self.middle = nn.Parameter(self._initializer(n_output, 1, chi)[0])\n",
    "\n",
    "  @staticmethod\n",
    "  def _initializer(n_sites, d_phys, chi):\n",
    "    w = torch.stack(d_phys * n_sites * (torch.eye(chi),))\n",
    "    w = w.view(d_phys, n_sites, chi, chi)\n",
    "    #return w + torch.empty(d_phys, n_sites, chi, chi).normal_(mean=0,std=1e-2)\n",
    "    w = w.permute(1, 0, 2, 3)\n",
    "    w = w.reshape(n_sites, d_phys*chi, chi)\n",
    "    U, D, V = torch.svd(w)\n",
    "    # Ids = torch.stack(D.shape[0]*(torch.eye(D.shape[1]), ))\n",
    "    # pr = torch.einsum('nij, njk, nlk -> nil', U, Ids, V)\n",
    "    # pr = pr.reshape(n_sites, d_phys, chi, chi)\n",
    "    # pr = pr.permute(1, 0, 2, 3) #+ torch.empty(d_phys, n_sites, chi, chi).normal_(mean=0,std=1e-2)\n",
    "    # return pr\n",
    "    # q, _ = torch.qr(torch.empty(n_sites, d_phys*chi, chi).normal_(mean=0,std=1))\n",
    "    # q = q.reshape(n_sites, d_phys, chi, chi)\n",
    "    # q = q.permute(1, 0, 2, 3)\n",
    "    # return q #+ torch.empty(d_phys, n_sites, chi, chi).normal_(mean=0,std=1e-3)\n",
    "\n",
    "  @staticmethod\n",
    "  def reduction(tensor):\n",
    "    length = tensor.size()[0]\n",
    "    while length > 1:\n",
    "      half_length = length // 2\n",
    "      nice_length = 2*half_length\n",
    "      leftover = tensor[nice_length:]\n",
    "      tensor = torch.matmul(tensor[0:nice_length:2], tensor[1:nice_length:2])\n",
    "      tensor = torch.cat((tensor, leftover), axis=0)\n",
    "      length = half_length + int(length % 2 == 1)\n",
    "    return tensor[0]  \n",
    "\n",
    "  def forward(self, inputs):\n",
    "    left = torch.einsum(\"slij,bls->lbij\", self.left, inputs[:, :self.n_half])\n",
    "    right = torch.einsum(\"slij,bls->lbij\", self.right, inputs[:, self.n_half:])\n",
    "    left = self.reduction(left)\n",
    "    right = self.reduction(right)\n",
    "    return torch.einsum(\"bij,cjk,bki->bc\", left, self.middle, right)"
   ]
  },
  {
   "cell_type": "code",
   "execution_count": 37,
   "metadata": {},
   "outputs": [],
   "source": [
    "model = nn.Sequential(\n",
    "    IsoMPSLayer(n_sites, chi, n_classes),\n",
    "    nn.LogSoftmax(dim=1)\n",
    ")\n",
    "\n",
    "model.to(DEVICE);"
   ]
  },
  {
   "cell_type": "code",
   "execution_count": 38,
   "metadata": {},
   "outputs": [],
   "source": [
    "trainable_parameters = model.parameters()\n",
    "criterion = torch.nn.CrossEntropyLoss()\n",
    "\n",
    "learning_rate = 3e-4\n",
    "optimizer = torch.optim.Adam(\n",
    "    trainable_parameters, lr=learning_rate, weight_decay=1e-4)"
   ]
  },
  {
   "cell_type": "code",
   "execution_count": 39,
   "metadata": {},
   "outputs": [],
   "source": [
    "def train(model, dataloader, criterion, optimizer):\n",
    "    \"\"\"Train for one epoch, return accuracy and average loss.\"\"\"\n",
    "    model.train()\n",
    "\n",
    "    correct, total = 0, 0\n",
    "    total_loss = 0.0\n",
    "\n",
    "    for images, labels in tqdm(dataloader):\n",
    "        probabilities = model(images.to(DEVICE))\n",
    "\n",
    "        with torch.no_grad():\n",
    "            labels = labels.to(DEVICE)\n",
    "            predictions = probabilities.max(1)[1]\n",
    "            \n",
    "            total += len(labels)\n",
    "            correct += (predictions == labels).sum().item()\n",
    "\n",
    "        loss_value = criterion(probabilities, labels)\n",
    "        total_loss += loss_value.item() * len(labels)\n",
    "        \n",
    "        optimizer.zero_grad()\n",
    "       \n",
    "\n",
    "        loss_value.backward()\n",
    "        optimizer.step()\n",
    "        with torch.no_grad():\n",
    "          ls = model[0].left.size()\n",
    "          # # test = torch.zeros(ls).to(DEVICE)\n",
    "          # # test[0, :, :, :] = torch.stack(ls[1]*(torch.eye(ls[2]),))\n",
    "          # # test[1, :, :, :] = torch.stack(ls[1]*(torch.eye(ls[2]),))\n",
    "          # model[0].left[0] = torch.mul(model[0].left[0],  torch.stack(ls[1]*(torch.eye(ls[2]),)).to(DEVICE) )\n",
    "          # model[0].left[1] = torch.mul(model[0].left[0],  torch.stack(ls[1]*(torch.eye(ls[2]),)).to(DEVICE) )\n",
    "          # model[0].right[0] = torch.mul(model[0].left[0],  torch.stack(ls[1]*(torch.eye(ls[2]),)).to(DEVICE) )\n",
    "          # #model[0].right[1] = torch.mul(model[0].left[0],  torch.stack(ls[1]*(torch.eye(ls[2]),)).to(DEVICE) )\n",
    "    return correct / total, total_loss / total"
   ]
  },
  {
   "cell_type": "code",
   "execution_count": 40,
   "metadata": {},
   "outputs": [],
   "source": [
    "epochs = 0\n",
    "train_accuracy, val_accuracy, train_loss = float('nan'), float('nan'), float('nan')"
   ]
  },
  {
   "cell_type": "code",
   "execution_count": 44,
   "metadata": {},
   "outputs": [
    {
     "name": "stdout",
     "output_type": "stream",
     "text": [
      "After 6 epochs, training accuracy: 97.55% (loss 0.0914), validation accuracy: 97.56%\n"
     ]
    },
    {
     "data": {
      "application/vnd.jupyter.widget-view+json": {
       "model_id": "7d1257b95a904d7084a248a9ed8704b4",
       "version_major": 2,
       "version_minor": 0
      },
      "text/plain": [
       "HBox(children=(IntProgress(value=0, max=938), HTML(value='')))"
      ]
     },
     "metadata": {},
     "output_type": "display_data"
    },
    {
     "name": "stdout",
     "output_type": "stream",
     "text": [
      "\n",
      "After 7 epochs, training accuracy: 97.68% (loss 0.0817), validation accuracy: 97.00%\n"
     ]
    },
    {
     "data": {
      "application/vnd.jupyter.widget-view+json": {
       "model_id": "d4aaab88c1f5486cb277f4f59ba69aeb",
       "version_major": 2,
       "version_minor": 0
      },
      "text/plain": [
       "HBox(children=(IntProgress(value=0, max=938), HTML(value='')))"
      ]
     },
     "metadata": {},
     "output_type": "display_data"
    },
    {
     "name": "stdout",
     "output_type": "stream",
     "text": [
      "\n",
      "Decreasing the learning rate to 2.9999999999999997e-05\n",
      "After 8 epochs, training accuracy: 97.92% (loss 0.0763), validation accuracy: 97.40%\n"
     ]
    },
    {
     "data": {
      "application/vnd.jupyter.widget-view+json": {
       "model_id": "3e9dfd6b5764477fb7b602ce17f4c712",
       "version_major": 2,
       "version_minor": 0
      },
      "text/plain": [
       "HBox(children=(IntProgress(value=0, max=938), HTML(value='')))"
      ]
     },
     "metadata": {},
     "output_type": "display_data"
    },
    {
     "name": "stdout",
     "output_type": "stream",
     "text": [
      "\n",
      "After 9 epochs, training accuracy: 99.11% (loss 0.0295), validation accuracy: 98.35%\n"
     ]
    }
   ],
   "source": [
    "for _ in range(3):\n",
    "    # Compute validation accuracy\n",
    "    val_accuracy = validate(model, val_dataloader)\n",
    "    print(\n",
    "        f\"After {epochs} epochs, training accuracy: {train_accuracy * 100:.2f}%\"\n",
    "        f\" (loss {train_loss:.4f}), validation accuracy: {val_accuracy * 100:.2f}%\")\n",
    "\n",
    "    # Train for one epoch\n",
    "    train_accuracy, train_loss = train(model, train_dataloader, criterion, optimizer)\n",
    "    epochs += 1\n",
    "\n",
    "    # Decrease learning rate sometimes\n",
    "    if epochs in (8, 13, 16):\n",
    "        learning_rate /= 10\n",
    "        set_learning_rate(optimizer, learning_rate)\n",
    "        print(f\"Decreasing the learning rate to {learning_rate}\")\n",
    "\n",
    "# Compute final validation accuracy\n",
    "val_accuracy = validate(model, val_dataloader)\n",
    "print(\n",
    "    f\"After {epochs} epochs, training accuracy: {train_accuracy * 100:.2f}%\"\n",
    "    f\" (loss {train_loss:.4f}), validation accuracy: {val_accuracy * 100:.2f}%\")"
   ]
  },
  {
   "cell_type": "code",
   "execution_count": null,
   "metadata": {},
   "outputs": [],
   "source": []
  }
 ],
 "metadata": {
  "kernelspec": {
   "display_name": "Python 3",
   "language": "python",
   "name": "python3"
  },
  "language_info": {
   "codemirror_mode": {
    "name": "ipython",
    "version": 3
   },
   "file_extension": ".py",
   "mimetype": "text/x-python",
   "name": "python",
   "nbconvert_exporter": "python",
   "pygments_lexer": "ipython3",
   "version": "3.6.7"
  }
 },
 "nbformat": 4,
 "nbformat_minor": 2
}
