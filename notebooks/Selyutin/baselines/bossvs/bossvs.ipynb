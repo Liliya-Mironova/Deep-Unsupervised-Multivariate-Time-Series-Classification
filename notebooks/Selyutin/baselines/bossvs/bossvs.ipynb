{
 "cells": [
  {
   "cell_type": "markdown",
   "metadata": {},
   "source": [
    "### https://github.com/johannfaouzi/pyts"
   ]
  },
  {
   "cell_type": "code",
   "execution_count": 17,
   "metadata": {},
   "outputs": [],
   "source": [
    "from sklearn.metrics import accuracy_score\n",
    "from sktime.utils.load_data import load_from_tsfile_to_dataframe\n",
    "import numpy as np\n",
    "from sklearn import preprocessing\n",
    "import torch\n",
    "import torch.nn as nn\n",
    "import torch.nn.functional as F\n",
    "import os\n",
    "from tqdm.notebook import tqdm\n",
    "\n",
    "import logging\n",
    "logging.basicConfig(filename=\"bossvs_results_history.log\", level=logging.INFO)\n",
    "\n",
    "import warnings\n",
    "warnings.filterwarnings(\"ignore\")\n",
    "\n",
    "from pyts.classification import BOSSVS\n",
    "from pyts.multivariate.classification import MultivariateClassifier"
   ]
  },
  {
   "cell_type": "code",
   "execution_count": 13,
   "metadata": {},
   "outputs": [],
   "source": [
    "def preproc_before_knn_dtw(X):\n",
    "    X = X.applymap(np.array)\n",
    "\n",
    "    dimensions_lst = []\n",
    "\n",
    "    for dim in X.columns:\n",
    "        dimensions_lst.append(np.dstack(list(X[dim].values))[0])\n",
    "\n",
    "    dimensions_lst = np.array(dimensions_lst)\n",
    "    X = torch.from_numpy(np.array(dimensions_lst, dtype=np.float64))\n",
    "    X = X.transpose(0, 2)\n",
    "    X = X.transpose(1, 2)\n",
    "    X = F.normalize(X, dim=1)\n",
    "    X = X.float().numpy()\n",
    "    return X\n",
    "\n",
    "\n",
    "def preproc_answers(y):\n",
    "    le = preprocessing.LabelEncoder()\n",
    "    y = le.fit_transform(y)\n",
    "    return y"
   ]
  },
  {
   "cell_type": "markdown",
   "metadata": {},
   "source": [
    "# Run on all datasets"
   ]
  },
  {
   "cell_type": "code",
   "execution_count": null,
   "metadata": {},
   "outputs": [
    {
     "data": {
      "application/vnd.jupyter.widget-view+json": {
       "model_id": "5fa3771bb6ee40449ee359d0888ad914",
       "version_major": 2,
       "version_minor": 0
      },
      "text/plain": [
       "HBox(children=(IntProgress(value=0, max=31), HTML(value='')))"
      ]
     },
     "metadata": {},
     "output_type": "display_data"
    },
    {
     "name": "stdout",
     "output_type": "stream",
     "text": [
      "DuckDuckGeese\n",
      "data has been loaded\n",
      "data has been preprocessed\n"
     ]
    }
   ],
   "source": [
    "datasets_directory = \"/root/data/Multivariate_ts/\"\n",
    "datasets_names_lst = os.listdir(datasets_directory)\n",
    "\n",
    "for dataset_name in tqdm(datasets_names_lst):\n",
    "    logging.info(f'{dataset_name}')\n",
    "    print(dataset_name)\n",
    "    \n",
    "    try:\n",
    "        X_train, y_train = load_from_tsfile_to_dataframe(datasets_directory\\\n",
    "                                                         + dataset_name + f'/{dataset_name}_TRAIN.ts')\n",
    "        X_test, y_test = load_from_tsfile_to_dataframe(datasets_directory\\\n",
    "                                                       + dataset_name + f'/{dataset_name}_TEST.ts')\n",
    "        print('data has been loaded')\n",
    "        \n",
    "        X_train = preproc_before_knn_dtw(X_train)\n",
    "        X_test = preproc_before_knn_dtw(X_test)\n",
    "        print('data has been preprocessed')\n",
    "        \n",
    "        clf = MultivariateClassifier(BOSSVS())\n",
    "        clf.fit(X_train, y_train)\n",
    "\n",
    "        test_predictions = clf.predict(X_test)\n",
    "        test_accuracy = accuracy_score(test_predictions, y_test)\n",
    "        logging.info(f\"test_accuracy: {test_accuracy}\\n\")\n",
    "        print('test_accuracy:',test_accuracy)\n",
    "        print('\\n')\n",
    "    except:\n",
    "        print('Error: smth is wrong\\n')\n",
    "        logging.info(f\"Error: smth is wrong\\n\")"
   ]
  },
  {
   "cell_type": "markdown",
   "metadata": {},
   "source": [
    "# One dataset example"
   ]
  },
  {
   "cell_type": "code",
   "execution_count": 29,
   "metadata": {},
   "outputs": [],
   "source": [
    "# dataset_name = 'InsectWingbeat'\n",
    "dataset_name = 'LSST'\n",
    "# dataset_name = 'Cricket'\n",
    "\n",
    "datasets_directory = \"/root/data/Multivariate_ts/\"\n",
    "\n",
    "X_train, y_train = load_from_tsfile_to_dataframe(datasets_directory + dataset_name + f'/{dataset_name}_TRAIN.ts')\n",
    "X_test, y_test = load_from_tsfile_to_dataframe(datasets_directory + dataset_name + f'/{dataset_name}_TEST.ts')"
   ]
  },
  {
   "cell_type": "code",
   "execution_count": 30,
   "metadata": {},
   "outputs": [],
   "source": [
    "X_train = preproc_before_knn_dtw(X_train)\n",
    "X_test = preproc_before_knn_dtw(X_test)\n",
    "\n",
    "y_train = preproc_answers(y_train)\n",
    "y_test = preproc_answers(y_test)"
   ]
  },
  {
   "cell_type": "code",
   "execution_count": 31,
   "metadata": {},
   "outputs": [
    {
     "data": {
      "text/plain": [
       "(2459, 6, 36)"
      ]
     },
     "execution_count": 31,
     "metadata": {},
     "output_type": "execute_result"
    }
   ],
   "source": [
    "X_train.shape"
   ]
  },
  {
   "cell_type": "code",
   "execution_count": 32,
   "metadata": {},
   "outputs": [],
   "source": [
    "clf = MultivariateClassifier(BOSSVS())"
   ]
  },
  {
   "cell_type": "code",
   "execution_count": 33,
   "metadata": {},
   "outputs": [
    {
     "name": "stdout",
     "output_type": "stream",
     "text": [
      "train_accuracy: 0.23993\n",
      "test_accuracy: 0.16545\n"
     ]
    }
   ],
   "source": [
    "clf.fit(X_train, y_train)\n",
    "\n",
    "train_predictions = clf.predict(X_train)\n",
    "train_accuracy = accuracy_score(train_predictions, y_train)\n",
    "print('train_accuracy:', round(train_accuracy,5))\n",
    "\n",
    "test_predictions = clf.predict(X_test)\n",
    "test_accuracy = accuracy_score(test_predictions, y_test)\n",
    "print('test_accuracy:', round(test_accuracy,5))"
   ]
  },
  {
   "cell_type": "code",
   "execution_count": null,
   "metadata": {},
   "outputs": [],
   "source": []
  }
 ],
 "metadata": {
  "kernelspec": {
   "display_name": "Python 3",
   "language": "python",
   "name": "python3"
  },
  "language_info": {
   "codemirror_mode": {
    "name": "ipython",
    "version": 3
   },
   "file_extension": ".py",
   "mimetype": "text/x-python",
   "name": "python",
   "nbconvert_exporter": "python",
   "pygments_lexer": "ipython3",
   "version": "3.6.7"
  }
 },
 "nbformat": 4,
 "nbformat_minor": 2
}
